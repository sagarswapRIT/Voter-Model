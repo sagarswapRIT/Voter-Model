{
 "cells": [
  {
   "cell_type": "markdown",
   "metadata": {},
   "source": [
    "Generate Graphs Details of all Processed Real World Graphs"
   ]
  },
  {
   "cell_type": "code",
   "execution_count": 19,
   "metadata": {},
   "outputs": [],
   "source": [
    "import os\n",
    "import pandas as pd\n",
    "import networkx as nx\n",
    "import numpy as np"
   ]
  },
  {
   "cell_type": "code",
   "execution_count": 5,
   "metadata": {},
   "outputs": [
    {
     "name": "stdout",
     "output_type": "stream",
     "text": [
      "['emailEU.txt', 'facebook.txt', 'twitch_ES.txt', 'twitch_FR.txt', 'gitInteractions.txt', 'twitch_RU.txt', 'redditHyperlink.txt', 'lastfm.txt', 'twitch_DE.txt', 'Twitch_ENGB.txt', 'twitch_PTBR.txt', 'facebookMedium.txt', 'facebookArtist.txt', 'hepPh.txt', 'astroPh.txt']\n"
     ]
    }
   ],
   "source": [
    "files=os.listdir(\"./\")\n",
    "files= [f for f in files if f.endswith(\".txt\")]\n",
    "print(files)"
   ]
  },
  {
   "cell_type": "code",
   "execution_count": 28,
   "metadata": {},
   "outputs": [
    {
     "name": "stdout",
     "output_type": "stream",
     "text": [
      "emailEU.txt\n",
      "Nodes =  1005 , Edges =  16706\n",
      "Average Degree =  33.245771144278606\n",
      "Average Clustering Coeff 0.3993549664221539\n",
      "Transitivity =  0.26739242877040204\n",
      "Number of Connected Componenets =  20\n",
      "Diameter =  [7, 0, 0, 0, 0, 0, 0, 0, 0, 0, 0, 0, 0, 0, 0, 0, 0, 0, 0, 0] \n",
      "\n",
      "\n",
      "facebook.txt\n",
      "Nodes =  4039 , Edges =  88234\n",
      "Average Degree =  43.69101262688784\n",
      "Average Clustering Coeff 0.6055467186200876\n",
      "Transitivity =  0.5191742775433075\n",
      "Number of Connected Componenets =  1\n",
      "Diameter =  [8] \n",
      "\n",
      "\n",
      "twitch_ES.txt\n",
      "Nodes =  4648 , Edges =  59382\n",
      "Average Degree =  25.551635111876077\n",
      "Average Clustering Coeff 0.22249632592464172\n",
      "Transitivity =  0.0842348748307571\n",
      "Number of Connected Componenets =  1\n",
      "Diameter =  [9] \n",
      "\n",
      "\n",
      "twitch_FR.txt\n",
      "Nodes =  6549 , Edges =  112666\n",
      "Average Degree =  34.40708505115285\n",
      "Average Clustering Coeff 0.22170550923594232\n",
      "Transitivity =  0.05412827315082585\n",
      "Number of Connected Componenets =  1\n"
     ]
    },
    {
     "ename": "KeyboardInterrupt",
     "evalue": "",
     "output_type": "error",
     "traceback": [
      "\u001b[0;31m---------------------------------------------------------------------------\u001b[0m",
      "\u001b[0;31mKeyboardInterrupt\u001b[0m                         Traceback (most recent call last)",
      "\u001b[1;32m/home/sagarswap/Programming/Capstone/data/input/RealWorld/RealWorldGraphDetails.ipynb Cell 4\u001b[0m line \u001b[0;36m1\n\u001b[1;32m     <a href='vscode-notebook-cell:/home/sagarswap/Programming/Capstone/data/input/RealWorld/RealWorldGraphDetails.ipynb#W4sZmlsZQ%3D%3D?line=10'>11</a>\u001b[0m diameters\u001b[39m=\u001b[39m[]\n\u001b[1;32m     <a href='vscode-notebook-cell:/home/sagarswap/Programming/Capstone/data/input/RealWorld/RealWorldGraphDetails.ipynb#W4sZmlsZQ%3D%3D?line=11'>12</a>\u001b[0m \u001b[39mfor\u001b[39;00m component \u001b[39min\u001b[39;00m nx\u001b[39m.\u001b[39mconnected_components(G):\n\u001b[0;32m---> <a href='vscode-notebook-cell:/home/sagarswap/Programming/Capstone/data/input/RealWorld/RealWorldGraphDetails.ipynb#W4sZmlsZQ%3D%3D?line=12'>13</a>\u001b[0m     diameters\u001b[39m.\u001b[39mappend(nx\u001b[39m.\u001b[39;49mdiameter(G\u001b[39m.\u001b[39;49msubgraph(component)))\n\u001b[1;32m     <a href='vscode-notebook-cell:/home/sagarswap/Programming/Capstone/data/input/RealWorld/RealWorldGraphDetails.ipynb#W4sZmlsZQ%3D%3D?line=13'>14</a>\u001b[0m \u001b[39mprint\u001b[39m(\u001b[39m\"\u001b[39m\u001b[39mDiameter = \u001b[39m\u001b[39m\"\u001b[39m, diameters,\u001b[39m\"\u001b[39m\u001b[39m\\n\u001b[39;00m\u001b[39m\\n\u001b[39;00m\u001b[39m\"\u001b[39m)\n\u001b[1;32m     <a href='vscode-notebook-cell:/home/sagarswap/Programming/Capstone/data/input/RealWorld/RealWorldGraphDetails.ipynb#W4sZmlsZQ%3D%3D?line=14'>15</a>\u001b[0m \u001b[39m#print(\"90th Percentile Diameter = \", np.percentile(diameters, 90))\u001b[39;00m\n\u001b[1;32m     <a href='vscode-notebook-cell:/home/sagarswap/Programming/Capstone/data/input/RealWorld/RealWorldGraphDetails.ipynb#W4sZmlsZQ%3D%3D?line=15'>16</a>\u001b[0m \u001b[39m#print(\"Betweeness Centrality = \", nx.betweenness_centrality(G))\u001b[39;00m\n\u001b[1;32m     <a href='vscode-notebook-cell:/home/sagarswap/Programming/Capstone/data/input/RealWorld/RealWorldGraphDetails.ipynb#W4sZmlsZQ%3D%3D?line=16'>17</a>\u001b[0m \u001b[39m#print(\"Number of cliques = \", nx.number_of_cliques(G))\u001b[39;00m\n",
      "File \u001b[0;32m~/.local/lib/python3.10/site-packages/networkx/utils/backends.py:412\u001b[0m, in \u001b[0;36m_dispatch.__call__\u001b[0;34m(self, backend, *args, **kwargs)\u001b[0m\n\u001b[1;32m    409\u001b[0m \u001b[39mdef\u001b[39;00m \u001b[39m__call__\u001b[39m(\u001b[39mself\u001b[39m, \u001b[39m/\u001b[39m, \u001b[39m*\u001b[39margs, backend\u001b[39m=\u001b[39m\u001b[39mNone\u001b[39;00m, \u001b[39m*\u001b[39m\u001b[39m*\u001b[39mkwargs):\n\u001b[1;32m    410\u001b[0m     \u001b[39mif\u001b[39;00m \u001b[39mnot\u001b[39;00m backends:\n\u001b[1;32m    411\u001b[0m         \u001b[39m# Fast path if no backends are installed\u001b[39;00m\n\u001b[0;32m--> 412\u001b[0m         \u001b[39mreturn\u001b[39;00m \u001b[39mself\u001b[39;49m\u001b[39m.\u001b[39;49morig_func(\u001b[39m*\u001b[39;49margs, \u001b[39m*\u001b[39;49m\u001b[39m*\u001b[39;49mkwargs)\n\u001b[1;32m    414\u001b[0m     \u001b[39m# Use `backend_name` in this function instead of `backend`\u001b[39;00m\n\u001b[1;32m    415\u001b[0m     backend_name \u001b[39m=\u001b[39m backend\n",
      "File \u001b[0;32m~/.local/lib/python3.10/site-packages/networkx/algorithms/distance_measures.py:380\u001b[0m, in \u001b[0;36mdiameter\u001b[0;34m(G, e, usebounds, weight)\u001b[0m\n\u001b[1;32m    378\u001b[0m     \u001b[39mreturn\u001b[39;00m _extrema_bounding(G, compute\u001b[39m=\u001b[39m\u001b[39m\"\u001b[39m\u001b[39mdiameter\u001b[39m\u001b[39m\"\u001b[39m, weight\u001b[39m=\u001b[39mweight)\n\u001b[1;32m    379\u001b[0m \u001b[39mif\u001b[39;00m e \u001b[39mis\u001b[39;00m \u001b[39mNone\u001b[39;00m:\n\u001b[0;32m--> 380\u001b[0m     e \u001b[39m=\u001b[39m eccentricity(G, weight\u001b[39m=\u001b[39;49mweight)\n\u001b[1;32m    381\u001b[0m \u001b[39mreturn\u001b[39;00m \u001b[39mmax\u001b[39m(e\u001b[39m.\u001b[39mvalues())\n",
      "File \u001b[0;32m~/.local/lib/python3.10/site-packages/networkx/utils/backends.py:412\u001b[0m, in \u001b[0;36m_dispatch.__call__\u001b[0;34m(self, backend, *args, **kwargs)\u001b[0m\n\u001b[1;32m    409\u001b[0m \u001b[39mdef\u001b[39;00m \u001b[39m__call__\u001b[39m(\u001b[39mself\u001b[39m, \u001b[39m/\u001b[39m, \u001b[39m*\u001b[39margs, backend\u001b[39m=\u001b[39m\u001b[39mNone\u001b[39;00m, \u001b[39m*\u001b[39m\u001b[39m*\u001b[39mkwargs):\n\u001b[1;32m    410\u001b[0m     \u001b[39mif\u001b[39;00m \u001b[39mnot\u001b[39;00m backends:\n\u001b[1;32m    411\u001b[0m         \u001b[39m# Fast path if no backends are installed\u001b[39;00m\n\u001b[0;32m--> 412\u001b[0m         \u001b[39mreturn\u001b[39;00m \u001b[39mself\u001b[39;49m\u001b[39m.\u001b[39;49morig_func(\u001b[39m*\u001b[39;49margs, \u001b[39m*\u001b[39;49m\u001b[39m*\u001b[39;49mkwargs)\n\u001b[1;32m    414\u001b[0m     \u001b[39m# Use `backend_name` in this function instead of `backend`\u001b[39;00m\n\u001b[1;32m    415\u001b[0m     backend_name \u001b[39m=\u001b[39m backend\n",
      "File \u001b[0;32m~/.local/lib/python3.10/site-packages/networkx/algorithms/distance_measures.py:302\u001b[0m, in \u001b[0;36meccentricity\u001b[0;34m(G, v, sp, weight)\u001b[0m\n\u001b[1;32m    300\u001b[0m \u001b[39mfor\u001b[39;00m n \u001b[39min\u001b[39;00m G\u001b[39m.\u001b[39mnbunch_iter(v):\n\u001b[1;32m    301\u001b[0m     \u001b[39mif\u001b[39;00m sp \u001b[39mis\u001b[39;00m \u001b[39mNone\u001b[39;00m:\n\u001b[0;32m--> 302\u001b[0m         length \u001b[39m=\u001b[39m nx\u001b[39m.\u001b[39;49mshortest_path_length(G, source\u001b[39m=\u001b[39;49mn, weight\u001b[39m=\u001b[39;49mweight)\n\u001b[1;32m    304\u001b[0m         L \u001b[39m=\u001b[39m \u001b[39mlen\u001b[39m(length)\n\u001b[1;32m    305\u001b[0m     \u001b[39melse\u001b[39;00m:\n",
      "File \u001b[0;32m~/.local/lib/python3.10/site-packages/networkx/utils/backends.py:412\u001b[0m, in \u001b[0;36m_dispatch.__call__\u001b[0;34m(self, backend, *args, **kwargs)\u001b[0m\n\u001b[1;32m    409\u001b[0m \u001b[39mdef\u001b[39;00m \u001b[39m__call__\u001b[39m(\u001b[39mself\u001b[39m, \u001b[39m/\u001b[39m, \u001b[39m*\u001b[39margs, backend\u001b[39m=\u001b[39m\u001b[39mNone\u001b[39;00m, \u001b[39m*\u001b[39m\u001b[39m*\u001b[39mkwargs):\n\u001b[1;32m    410\u001b[0m     \u001b[39mif\u001b[39;00m \u001b[39mnot\u001b[39;00m backends:\n\u001b[1;32m    411\u001b[0m         \u001b[39m# Fast path if no backends are installed\u001b[39;00m\n\u001b[0;32m--> 412\u001b[0m         \u001b[39mreturn\u001b[39;00m \u001b[39mself\u001b[39;49m\u001b[39m.\u001b[39;49morig_func(\u001b[39m*\u001b[39;49margs, \u001b[39m*\u001b[39;49m\u001b[39m*\u001b[39;49mkwargs)\n\u001b[1;32m    414\u001b[0m     \u001b[39m# Use `backend_name` in this function instead of `backend`\u001b[39;00m\n\u001b[1;32m    415\u001b[0m     backend_name \u001b[39m=\u001b[39m backend\n",
      "File \u001b[0;32m~/.local/lib/python3.10/site-packages/networkx/algorithms/shortest_paths/generic.py:306\u001b[0m, in \u001b[0;36mshortest_path_length\u001b[0;34m(G, source, target, weight, method)\u001b[0m\n\u001b[1;32m    303\u001b[0m \u001b[39mif\u001b[39;00m target \u001b[39mis\u001b[39;00m \u001b[39mNone\u001b[39;00m:\n\u001b[1;32m    304\u001b[0m     \u001b[39m# Find paths to all nodes accessible from the source.\u001b[39;00m\n\u001b[1;32m    305\u001b[0m     \u001b[39mif\u001b[39;00m method \u001b[39m==\u001b[39m \u001b[39m\"\u001b[39m\u001b[39munweighted\u001b[39m\u001b[39m\"\u001b[39m:\n\u001b[0;32m--> 306\u001b[0m         paths \u001b[39m=\u001b[39m nx\u001b[39m.\u001b[39;49msingle_source_shortest_path_length(G, source)\n\u001b[1;32m    307\u001b[0m     \u001b[39melif\u001b[39;00m method \u001b[39m==\u001b[39m \u001b[39m\"\u001b[39m\u001b[39mdijkstra\u001b[39m\u001b[39m\"\u001b[39m:\n\u001b[1;32m    308\u001b[0m         path_length \u001b[39m=\u001b[39m nx\u001b[39m.\u001b[39msingle_source_dijkstra_path_length\n",
      "File \u001b[0;32m~/.local/lib/python3.10/site-packages/networkx/utils/backends.py:412\u001b[0m, in \u001b[0;36m_dispatch.__call__\u001b[0;34m(self, backend, *args, **kwargs)\u001b[0m\n\u001b[1;32m    409\u001b[0m \u001b[39mdef\u001b[39;00m \u001b[39m__call__\u001b[39m(\u001b[39mself\u001b[39m, \u001b[39m/\u001b[39m, \u001b[39m*\u001b[39margs, backend\u001b[39m=\u001b[39m\u001b[39mNone\u001b[39;00m, \u001b[39m*\u001b[39m\u001b[39m*\u001b[39mkwargs):\n\u001b[1;32m    410\u001b[0m     \u001b[39mif\u001b[39;00m \u001b[39mnot\u001b[39;00m backends:\n\u001b[1;32m    411\u001b[0m         \u001b[39m# Fast path if no backends are installed\u001b[39;00m\n\u001b[0;32m--> 412\u001b[0m         \u001b[39mreturn\u001b[39;00m \u001b[39mself\u001b[39;49m\u001b[39m.\u001b[39;49morig_func(\u001b[39m*\u001b[39;49margs, \u001b[39m*\u001b[39;49m\u001b[39m*\u001b[39;49mkwargs)\n\u001b[1;32m    414\u001b[0m     \u001b[39m# Use `backend_name` in this function instead of `backend`\u001b[39;00m\n\u001b[1;32m    415\u001b[0m     backend_name \u001b[39m=\u001b[39m backend\n",
      "File \u001b[0;32m~/.local/lib/python3.10/site-packages/networkx/algorithms/shortest_paths/unweighted.py:62\u001b[0m, in \u001b[0;36msingle_source_shortest_path_length\u001b[0;34m(G, source, cutoff)\u001b[0m\n\u001b[1;32m     60\u001b[0m     cutoff \u001b[39m=\u001b[39m \u001b[39mfloat\u001b[39m(\u001b[39m\"\u001b[39m\u001b[39minf\u001b[39m\u001b[39m\"\u001b[39m)\n\u001b[1;32m     61\u001b[0m nextlevel \u001b[39m=\u001b[39m [source]\n\u001b[0;32m---> 62\u001b[0m \u001b[39mreturn\u001b[39;00m \u001b[39mdict\u001b[39;49m(_single_shortest_path_length(G\u001b[39m.\u001b[39;49m_adj, nextlevel, cutoff))\n",
      "File \u001b[0;32m~/.local/lib/python3.10/site-packages/networkx/algorithms/shortest_paths/unweighted.py:92\u001b[0m, in \u001b[0;36m_single_shortest_path_length\u001b[0;34m(adj, firstlevel, cutoff)\u001b[0m\n\u001b[1;32m     90\u001b[0m     \u001b[39mif\u001b[39;00m w \u001b[39mnot\u001b[39;00m \u001b[39min\u001b[39;00m seen:\n\u001b[1;32m     91\u001b[0m         seen\u001b[39m.\u001b[39madd(w)\n\u001b[0;32m---> 92\u001b[0m         nextlevel\u001b[39m.\u001b[39;49mappend(w)\n\u001b[1;32m     93\u001b[0m         \u001b[39myield\u001b[39;00m (w, level)\n\u001b[1;32m     94\u001b[0m \u001b[39mif\u001b[39;00m \u001b[39mlen\u001b[39m(seen) \u001b[39m==\u001b[39m n:\n",
      "\u001b[0;31mKeyboardInterrupt\u001b[0m: "
     ]
    }
   ],
   "source": [
    "for file in files:\n",
    "    data=pd.read_csv(file, sep=' ', names=['from', 'to'], skiprows=1)\n",
    "    G=nx.from_pandas_edgelist(data, source='from', target='to', create_using=nx.Graph())\n",
    "    print(file)\n",
    "    print(\"Nodes = \", G.number_of_nodes(), \", Edges = \", G.number_of_edges())\n",
    "    print(\"Average Degree = \", sum(d for n, d in G.degree())/G.number_of_nodes())\n",
    "    print(\"Average Clustering Coeff\", nx.average_clustering(G))\n",
    "    #print(\"No. of Triangles = \", sum(nx.triangles(G).values()))\n",
    "    print(\"Transitivity = \", nx.transitivity(G))\n",
    "    print(\"Number of Connected Componenets = \", nx.number_connected_components(G))\n",
    "    diameters=[]\n",
    "    for component in nx.connected_components(G):\n",
    "        diameters.append(nx.diameter(G.subgraph(component)))\n",
    "    print(\"Diameter = \", diameters,\"\\n\\n\")\n",
    "    #print(\"90th Percentile Diameter = \", np.percentile(diameters, 90))\n",
    "    #print(\"Betweeness Centrality = \", nx.betweenness_centrality(G))\n",
    "    #print(\"Number of cliques = \", nx.number_of_cliques(G))\n",
    "    "
   ]
  }
 ],
 "metadata": {
  "kernelspec": {
   "display_name": "Python 3",
   "language": "python",
   "name": "python3"
  },
  "language_info": {
   "codemirror_mode": {
    "name": "ipython",
    "version": 3
   },
   "file_extension": ".py",
   "mimetype": "text/x-python",
   "name": "python",
   "nbconvert_exporter": "python",
   "pygments_lexer": "ipython3",
   "version": "3.10.12"
  }
 },
 "nbformat": 4,
 "nbformat_minor": 2
}
