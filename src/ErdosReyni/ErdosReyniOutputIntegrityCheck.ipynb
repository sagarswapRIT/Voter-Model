{
 "cells": [
  {
   "cell_type": "code",
   "execution_count": 1,
   "metadata": {},
   "outputs": [],
   "source": [
    "import pandas as pd\n",
    "import os"
   ]
  },
  {
   "cell_type": "code",
   "execution_count": 59,
   "metadata": {},
   "outputs": [
    {
     "name": "stdout",
     "output_type": "stream",
     "text": [
      "ErdosReyni_N22000_r0_1939.txt\n",
      "ErdosReyni_N22000_r0_7597.txt\n",
      "ErdosReyni_N22000_r0_7876.txt\n",
      "ErdosReyni_N22000_r0_8166.txt\n",
      "ErdosReyni_N22000_r0_9695.txt\n",
      "ErdosReyni_N22000_r40_8428.txt\n"
     ]
    }
   ],
   "source": [
    "#Check if any output did not resolve and check each row element count also, remove any files which can't be read\n",
    "\n",
    "folder_path = \"../../data/output/ErdosReyni/N50000/\"\n",
    "files=os.listdir(folder_path)\n",
    "\n",
    "myList=[]\n",
    "parsererror=[]\n",
    "\n",
    "for file in files:\n",
    "    with open(os.path.join(folder_path, file), 'r') as f:\n",
    "        try: \n",
    "            content = pd.read_csv(folder_path+\"/\"+file, names=['Epoch', 'Pop', 'Frac', 'DiscEdge'], skiprows=1, sep=\" \")\n",
    "        except parsererror as e:\n",
    "            os.remove(folder_path+\"/\"+file)\n",
    "            continue\n",
    "        filee=file.split('_')\n",
    "        content=content.drop(['Pop'], axis=1)    \n",
    "        r=filee[1]\n",
    "        if r=='r100' or r=='r0' or r=='r80':\n",
    "            continue\n",
    "        finalOpinionDensity=content.iloc[-1, 1]\n",
    "        finalDiscordantEdges=content.iloc[-1,2]\n",
    "        finalEpoch=content.iloc[-1, 0]\n",
    "        if finalDiscordantEdges!=0 or finalEpoch<100:\n",
    "            myList.append(str(file))\n",
    "\n",
    "myList=sorted(myList)\n",
    "for item in myList:\n",
    "    print(item)"
   ]
  },
  {
   "cell_type": "code",
   "execution_count": 44,
   "metadata": {},
   "outputs": [],
   "source": [
    "ff=\"hello.txt\"\n",
    "os.remove(folder_path+\"/\"+ff)"
   ]
  },
  {
   "cell_type": "code",
   "execution_count": 52,
   "metadata": {},
   "outputs": [
    {
     "name": "stdout",
     "output_type": "stream",
     "text": [
      "{'r0': 76, 'r10': 46, 'r20': 35, 'r30': 30, 'r40': 57, 'r50': 21, 'r60': 34, 'r70': 45, 'r80': 0, 'r90': 31, 'r100': 0}\n"
     ]
    }
   ],
   "source": [
    "#Count Number of outputs of each category\n",
    "\n",
    "folder_path = \"../../data/output/ErdosReyni/N50000/\"\n",
    "files=os.listdir(folder_path)\n",
    "\n",
    "numberOfOutputs={\"r0\": 0, \"r10\": 0, \"r20\": 0, \"r30\":0, \"r40\":0, \"r50\":0, \"r60\":0, \"r70\":0, \"r80\":0, \"r90\":0, \"r100\":0}\n",
    "\n",
    "for file in files:\n",
    "    with open(os.path.join(folder_path, file), 'r') as f:\n",
    "        file=file.split('_')\n",
    "        r=file[2]\n",
    "        numberOfOutputs[r]=numberOfOutputs.get(r)+1\n",
    "print(numberOfOutputs)"
   ]
  },
  {
   "cell_type": "code",
   "execution_count": 7,
   "metadata": {},
   "outputs": [
    {
     "ename": "ParserError",
     "evalue": "Error tokenizing data. C error: Expected 4 fields in line 1246, saw 6\n",
     "output_type": "error",
     "traceback": [
      "\u001b[0;31m---------------------------------------------------------------------------\u001b[0m",
      "\u001b[0;31mParserError\u001b[0m                               Traceback (most recent call last)",
      "\u001b[1;32m/home/sagarswap/Programming/Capstone/src/ErdosReyni/ErdosReyniOutputIntegrityCheck.ipynb Cell 4\u001b[0m line \u001b[0;36m9\n\u001b[1;32m      <a href='vscode-notebook-cell:/home/sagarswap/Programming/Capstone/src/ErdosReyni/ErdosReyniOutputIntegrityCheck.ipynb#W3sZmlsZQ%3D%3D?line=6'>7</a>\u001b[0m prev\u001b[39m=\u001b[39m\u001b[39m0\u001b[39m\n\u001b[1;32m      <a href='vscode-notebook-cell:/home/sagarswap/Programming/Capstone/src/ErdosReyni/ErdosReyniOutputIntegrityCheck.ipynb#W3sZmlsZQ%3D%3D?line=7'>8</a>\u001b[0m \u001b[39mwith\u001b[39;00m \u001b[39mopen\u001b[39m(os\u001b[39m.\u001b[39mpath\u001b[39m.\u001b[39mjoin(folder_path, file), \u001b[39m'\u001b[39m\u001b[39mr\u001b[39m\u001b[39m'\u001b[39m) \u001b[39mas\u001b[39;00m f:\n\u001b[0;32m----> <a href='vscode-notebook-cell:/home/sagarswap/Programming/Capstone/src/ErdosReyni/ErdosReyniOutputIntegrityCheck.ipynb#W3sZmlsZQ%3D%3D?line=8'>9</a>\u001b[0m     content \u001b[39m=\u001b[39m pd\u001b[39m.\u001b[39;49mread_csv(folder_path\u001b[39m+\u001b[39;49m\u001b[39m\"\u001b[39;49m\u001b[39m/\u001b[39;49m\u001b[39m\"\u001b[39;49m\u001b[39m+\u001b[39;49mfile, names\u001b[39m=\u001b[39;49m[\u001b[39m'\u001b[39;49m\u001b[39mEpoch\u001b[39;49m\u001b[39m'\u001b[39;49m, \u001b[39m'\u001b[39;49m\u001b[39mPop\u001b[39;49m\u001b[39m'\u001b[39;49m, \u001b[39m'\u001b[39;49m\u001b[39mFrac\u001b[39;49m\u001b[39m'\u001b[39;49m, \u001b[39m'\u001b[39;49m\u001b[39mDiscEdge\u001b[39;49m\u001b[39m'\u001b[39;49m], skiprows\u001b[39m=\u001b[39;49m\u001b[39m1\u001b[39;49m, sep\u001b[39m=\u001b[39;49m\u001b[39m\"\u001b[39;49m\u001b[39m \u001b[39;49m\u001b[39m\"\u001b[39;49m)\n\u001b[1;32m     <a href='vscode-notebook-cell:/home/sagarswap/Programming/Capstone/src/ErdosReyni/ErdosReyniOutputIntegrityCheck.ipynb#W3sZmlsZQ%3D%3D?line=9'>10</a>\u001b[0m     content\u001b[39m=\u001b[39mpd\u001b[39m.\u001b[39mDataFrame(content)\n\u001b[1;32m     <a href='vscode-notebook-cell:/home/sagarswap/Programming/Capstone/src/ErdosReyni/ErdosReyniOutputIntegrityCheck.ipynb#W3sZmlsZQ%3D%3D?line=10'>11</a>\u001b[0m     content\u001b[39m=\u001b[39mcontent\u001b[39m.\u001b[39mdrop([\u001b[39m'\u001b[39m\u001b[39mPop\u001b[39m\u001b[39m'\u001b[39m], axis\u001b[39m=\u001b[39m\u001b[39m1\u001b[39m) \n",
      "File \u001b[0;32m~/.local/lib/python3.10/site-packages/pandas/io/parsers/readers.py:948\u001b[0m, in \u001b[0;36mread_csv\u001b[0;34m(filepath_or_buffer, sep, delimiter, header, names, index_col, usecols, dtype, engine, converters, true_values, false_values, skipinitialspace, skiprows, skipfooter, nrows, na_values, keep_default_na, na_filter, verbose, skip_blank_lines, parse_dates, infer_datetime_format, keep_date_col, date_parser, date_format, dayfirst, cache_dates, iterator, chunksize, compression, thousands, decimal, lineterminator, quotechar, quoting, doublequote, escapechar, comment, encoding, encoding_errors, dialect, on_bad_lines, delim_whitespace, low_memory, memory_map, float_precision, storage_options, dtype_backend)\u001b[0m\n\u001b[1;32m    935\u001b[0m kwds_defaults \u001b[39m=\u001b[39m _refine_defaults_read(\n\u001b[1;32m    936\u001b[0m     dialect,\n\u001b[1;32m    937\u001b[0m     delimiter,\n\u001b[0;32m   (...)\u001b[0m\n\u001b[1;32m    944\u001b[0m     dtype_backend\u001b[39m=\u001b[39mdtype_backend,\n\u001b[1;32m    945\u001b[0m )\n\u001b[1;32m    946\u001b[0m kwds\u001b[39m.\u001b[39mupdate(kwds_defaults)\n\u001b[0;32m--> 948\u001b[0m \u001b[39mreturn\u001b[39;00m _read(filepath_or_buffer, kwds)\n",
      "File \u001b[0;32m~/.local/lib/python3.10/site-packages/pandas/io/parsers/readers.py:617\u001b[0m, in \u001b[0;36m_read\u001b[0;34m(filepath_or_buffer, kwds)\u001b[0m\n\u001b[1;32m    614\u001b[0m     \u001b[39mreturn\u001b[39;00m parser\n\u001b[1;32m    616\u001b[0m \u001b[39mwith\u001b[39;00m parser:\n\u001b[0;32m--> 617\u001b[0m     \u001b[39mreturn\u001b[39;00m parser\u001b[39m.\u001b[39;49mread(nrows)\n",
      "File \u001b[0;32m~/.local/lib/python3.10/site-packages/pandas/io/parsers/readers.py:1748\u001b[0m, in \u001b[0;36mTextFileReader.read\u001b[0;34m(self, nrows)\u001b[0m\n\u001b[1;32m   1741\u001b[0m nrows \u001b[39m=\u001b[39m validate_integer(\u001b[39m\"\u001b[39m\u001b[39mnrows\u001b[39m\u001b[39m\"\u001b[39m, nrows)\n\u001b[1;32m   1742\u001b[0m \u001b[39mtry\u001b[39;00m:\n\u001b[1;32m   1743\u001b[0m     \u001b[39m# error: \"ParserBase\" has no attribute \"read\"\u001b[39;00m\n\u001b[1;32m   1744\u001b[0m     (\n\u001b[1;32m   1745\u001b[0m         index,\n\u001b[1;32m   1746\u001b[0m         columns,\n\u001b[1;32m   1747\u001b[0m         col_dict,\n\u001b[0;32m-> 1748\u001b[0m     ) \u001b[39m=\u001b[39m \u001b[39mself\u001b[39;49m\u001b[39m.\u001b[39;49m_engine\u001b[39m.\u001b[39;49mread(  \u001b[39m# type: ignore[attr-defined]\u001b[39;49;00m\n\u001b[1;32m   1749\u001b[0m         nrows\n\u001b[1;32m   1750\u001b[0m     )\n\u001b[1;32m   1751\u001b[0m \u001b[39mexcept\u001b[39;00m \u001b[39mException\u001b[39;00m:\n\u001b[1;32m   1752\u001b[0m     \u001b[39mself\u001b[39m\u001b[39m.\u001b[39mclose()\n",
      "File \u001b[0;32m~/.local/lib/python3.10/site-packages/pandas/io/parsers/c_parser_wrapper.py:234\u001b[0m, in \u001b[0;36mCParserWrapper.read\u001b[0;34m(self, nrows)\u001b[0m\n\u001b[1;32m    232\u001b[0m \u001b[39mtry\u001b[39;00m:\n\u001b[1;32m    233\u001b[0m     \u001b[39mif\u001b[39;00m \u001b[39mself\u001b[39m\u001b[39m.\u001b[39mlow_memory:\n\u001b[0;32m--> 234\u001b[0m         chunks \u001b[39m=\u001b[39m \u001b[39mself\u001b[39;49m\u001b[39m.\u001b[39;49m_reader\u001b[39m.\u001b[39;49mread_low_memory(nrows)\n\u001b[1;32m    235\u001b[0m         \u001b[39m# destructive to chunks\u001b[39;00m\n\u001b[1;32m    236\u001b[0m         data \u001b[39m=\u001b[39m _concatenate_chunks(chunks)\n",
      "File \u001b[0;32mparsers.pyx:843\u001b[0m, in \u001b[0;36mpandas._libs.parsers.TextReader.read_low_memory\u001b[0;34m()\u001b[0m\n",
      "File \u001b[0;32mparsers.pyx:904\u001b[0m, in \u001b[0;36mpandas._libs.parsers.TextReader._read_rows\u001b[0;34m()\u001b[0m\n",
      "File \u001b[0;32mparsers.pyx:879\u001b[0m, in \u001b[0;36mpandas._libs.parsers.TextReader._tokenize_rows\u001b[0;34m()\u001b[0m\n",
      "File \u001b[0;32mparsers.pyx:890\u001b[0m, in \u001b[0;36mpandas._libs.parsers.TextReader._check_tokenize_status\u001b[0;34m()\u001b[0m\n",
      "File \u001b[0;32mparsers.pyx:2058\u001b[0m, in \u001b[0;36mpandas._libs.parsers.raise_parser_error\u001b[0;34m()\u001b[0m\n",
      "\u001b[0;31mParserError\u001b[0m: Error tokenizing data. C error: Expected 4 fields in line 1246, saw 6\n"
     ]
    }
   ],
   "source": [
    "#Check if any output is not sequential\n",
    "\n",
    "folder_path = \"../../data/output/ErdosReyni/N50000/\"\n",
    "files=os.listdir(folder_path)\n",
    "\n",
    "for file in files:\n",
    "    prev=0\n",
    "    with open(os.path.join(folder_path, file), 'r') as f:\n",
    "        content = pd.read_csv(folder_path+\"/\"+file, names=['Epoch', 'Pop', 'Frac', 'DiscEdge'], skiprows=1, sep=\" \")\n",
    "        content=pd.DataFrame(content)\n",
    "        content=content.drop(['Pop'], axis=1) \n",
    "        #file=file.split('_')\n",
    "        for index, value in content.iterrows():\n",
    "            val=int(value['Epoch'])\n",
    "            if val==(prev+1):\n",
    "                prev=prev+1\n",
    "            else:\n",
    "                print(file)\n",
    "                print(val)\n",
    "                break"
   ]
  }
 ],
 "metadata": {
  "kernelspec": {
   "display_name": "Python 3",
   "language": "python",
   "name": "python3"
  },
  "language_info": {
   "codemirror_mode": {
    "name": "ipython",
    "version": 3
   },
   "file_extension": ".py",
   "mimetype": "text/x-python",
   "name": "python",
   "nbconvert_exporter": "python",
   "pygments_lexer": "ipython3",
   "version": "3.10.12"
  }
 },
 "nbformat": 4,
 "nbformat_minor": 2
}
