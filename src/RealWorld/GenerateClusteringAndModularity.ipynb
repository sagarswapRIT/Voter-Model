{
 "cells": [
  {
   "cell_type": "code",
   "execution_count": 1,
   "metadata": {},
   "outputs": [],
   "source": [
    "import os\n",
    "import networkx as nx\n",
    "import pandas as pd\n",
    "\n",
    "cluster_dict=dict()\n",
    "modular_dict=dict()"
   ]
  },
  {
   "cell_type": "code",
   "execution_count": null,
   "metadata": {},
   "outputs": [],
   "source": [
    "def getData(filepath, file):\n",
    "    data=pd.read_csv(filepath, sep=' ', names=['from', 'to'])\n",
    "    G=nx.Graph()\n",
    "    first_row=data.iloc[0]\n",
    "    data=data.iloc[1:]\n",
    "    nodeList=[i for i in range(0, first_row['from'])]\n",
    "    G.add_nodes_from(nodeList)\n",
    "    G.add_edges_from(data.values.tolist())\n",
    "    cluster_dict[file]=nx.average_clustering(G)\n",
    "    comm=nx.community.louvain_communities(G)\n",
    "    modular_dict[file]=nx.community.modularity(G, comm)"
   ]
  },
  {
   "cell_type": "code",
   "execution_count": 26,
   "metadata": {},
   "outputs": [
    {
     "name": "stdout",
     "output_type": "stream",
     "text": [
      "{'emailEU': 0.3993549664221539, 'facebook': 0.6055467186200871, 'twitchENGB': 0.13092821901472024, 'twitchES': 0.22249632592464147, 'twitchPTBR': 0.3198952746693508, 'gitInteractions': 0.16753704480107237, 'redditHyperlink': 0.18090101843790804, 'lastfm': 0.21941842432708525, 'facebookMedium': 0.3597383824426918, 'facebookArtist': 0.13812042114553524, 'twitchRU': 0.16579724241991578, 'twitchDE': 0.200885726693227, 'twitchFR': 0.22170550923594234, 'hepPh': 0.6114825236824339, 'astroPh': 0.6305932411707943}\n",
      "{'emailEU': 0.4326472871324043, 'facebook': 0.8349438009194434, 'twitchENGB': 0.4497917620383338, 'twitchES': 0.4078829751782803, 'twitchPTBR': 0.2933100816766558, 'gitInteractions': 0.4519370196853537, 'redditHyperlink': 0.508224871671039, 'lastfm': 0.8145536250540236, 'facebookMedium': 0.8148762493548762, 'facebookArtist': 0.612319903898739, 'twitchRU': 0.33684712096654873, 'twitchDE': 0.2950866307244211, 'twitchFR': 0.34140782608290354, 'hepPh': 0.6560423471967417, 'astroPh': 0.6272874848607424}\n"
     ]
    }
   ],
   "source": [
    "folder=\"../../data/input/RealWorld/\"\n",
    "files=os.listdir(folder)\n",
    "\n",
    "files=[f for f in files if  f[-4:]==\".txt\"] \n",
    "for file in files:\n",
    "    getData(folder+file, file[:-4])\n",
    "\n",
    "print(cluster_dict)\n",
    "print(modular_dict)"
   ]
  },
  {
   "cell_type": "code",
   "execution_count": 39,
   "metadata": {},
   "outputs": [
    {
     "name": "stdout",
     "output_type": "stream",
     "text": [
      "{'name': 'emailEU', 'clustering': 0.3993549664221539, 'modularity': 0.4326472871324043}\n",
      "{'name': 'facebook', 'clustering': 0.6055467186200871, 'modularity': 0.8349438009194434}\n",
      "{'name': 'twitchENGB', 'clustering': 0.13092821901472024, 'modularity': 0.4497917620383338}\n",
      "{'name': 'twitchES', 'clustering': 0.22249632592464147, 'modularity': 0.4078829751782803}\n",
      "{'name': 'twitchPTBR', 'clustering': 0.3198952746693508, 'modularity': 0.2933100816766558}\n",
      "{'name': 'gitInteractions', 'clustering': 0.16753704480107237, 'modularity': 0.4519370196853537}\n",
      "{'name': 'redditHyperlink', 'clustering': 0.18090101843790804, 'modularity': 0.508224871671039}\n",
      "{'name': 'lastfm', 'clustering': 0.21941842432708525, 'modularity': 0.8145536250540236}\n",
      "{'name': 'facebookMedium', 'clustering': 0.3597383824426918, 'modularity': 0.8148762493548762}\n",
      "{'name': 'facebookArtist', 'clustering': 0.13812042114553524, 'modularity': 0.612319903898739}\n",
      "{'name': 'twitchRU', 'clustering': 0.16579724241991578, 'modularity': 0.33684712096654873}\n",
      "{'name': 'twitchDE', 'clustering': 0.200885726693227, 'modularity': 0.2950866307244211}\n",
      "{'name': 'twitchFR', 'clustering': 0.22170550923594234, 'modularity': 0.34140782608290354}\n",
      "{'name': 'hepPh', 'clustering': 0.6114825236824339, 'modularity': 0.6560423471967417}\n",
      "{'name': 'astroPh', 'clustering': 0.6305932411707943, 'modularity': 0.6272874848607424}\n",
      "               name  clustering  modularity\n",
      "1           emailEU    0.399355    0.432647\n",
      "2          facebook    0.605547    0.834944\n",
      "3        twitchENGB    0.130928    0.449792\n",
      "4          twitchES    0.222496    0.407883\n",
      "5        twitchPTBR    0.319895    0.293310\n",
      "6   gitInteractions    0.167537    0.451937\n",
      "7   redditHyperlink    0.180901    0.508225\n",
      "8            lastfm    0.219418    0.814554\n",
      "9    facebookMedium    0.359738    0.814876\n",
      "10   facebookArtist    0.138120    0.612320\n",
      "11         twitchRU    0.165797    0.336847\n",
      "12         twitchDE    0.200886    0.295087\n",
      "13         twitchFR    0.221706    0.341408\n",
      "14            hepPh    0.611483    0.656042\n",
      "15          astroPh    0.630593    0.627287\n"
     ]
    }
   ],
   "source": [
    "result=pd.DataFrame(columns=['name', 'clustering', 'modularity'])\n",
    "i=1\n",
    "for key, value in cluster_dict.items():\n",
    "    row={'name': key, 'clustering': value, 'modularity': modular_dict[key]}\n",
    "    print(row)\n",
    "    result.loc[i]=row\n",
    "    i=i+1\n",
    "\n",
    "print(result)\n",
    "\n",
    "result.to_csv(\"../../data/output/RealWorld/Cluster_Modular.txt\", index=False)\n"
   ]
  }
 ],
 "metadata": {
  "kernelspec": {
   "display_name": "Python 3",
   "language": "python",
   "name": "python3"
  },
  "language_info": {
   "codemirror_mode": {
    "name": "ipython",
    "version": 3
   },
   "file_extension": ".py",
   "mimetype": "text/x-python",
   "name": "python",
   "nbconvert_exporter": "python",
   "pygments_lexer": "ipython3",
   "version": "3.10.12"
  }
 },
 "nbformat": 4,
 "nbformat_minor": 2
}
