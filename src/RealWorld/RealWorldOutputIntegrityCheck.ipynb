{
 "cells": [
  {
   "cell_type": "code",
   "execution_count": 1,
   "metadata": {},
   "outputs": [],
   "source": [
    "import pandas as pd\n",
    "import os"
   ]
  },
  {
   "cell_type": "code",
   "execution_count": 9,
   "metadata": {},
   "outputs": [
    {
     "name": "stdout",
     "output_type": "stream",
     "text": [
      "ccfacebookMedium_r80_2000.txt\n"
     ]
    }
   ],
   "source": [
    "#Check if any output did not resolve and check each row element count\n",
    "#Network doesn't resolve for facebookMedium when r=0\n",
    "\n",
    "folder_path = \"../../data/output/RealWorld/facebookMedium/ComplexContagion/half/\"\n",
    "files=os.listdir(folder_path)\n",
    "\n",
    "myList=[]\n",
    "parsererror=[]\n",
    "\n",
    "for file in files:\n",
    "    with open(os.path.join(folder_path, file), 'r') as f:\n",
    "        #print(file) #To check if a file has extra cols on any given row\n",
    "        try:\n",
    "            content = pd.read_csv(folder_path+\"/\"+file, names=['Epoch', 'Pop', 'Frac', 'DiscEdge'], skiprows=1, sep=\" \")\n",
    "        except Exception as e:\n",
    "            os.remove(folder_path+\"/\"+file)\n",
    "            print(\"File Deleted \", file)\n",
    "            continue\n",
    "        filee=file.split('_')\n",
    "        content=content.drop(['Pop'], axis=1)    \n",
    "        \n",
    "        r=filee[1]\n",
    "        if r=='r100':\n",
    "            continue\n",
    "        finalOpinionDensity=content.iloc[-1, 1]\n",
    "        finalDiscordantEdges=content.iloc[-1,2]\n",
    "        if finalDiscordantEdges!=0:\n",
    "            myList.append(str(file))\n",
    "\n",
    "myList=sorted(myList)\n",
    "for item in myList:\n",
    "    print(item)"
   ]
  },
  {
   "cell_type": "code",
   "execution_count": 13,
   "metadata": {},
   "outputs": [
    {
     "name": "stdout",
     "output_type": "stream",
     "text": [
      "{'r0': 38, 'r10': 36, 'r20': 36, 'r30': 36, 'r40': 64, 'r50': 36, 'r60': 36, 'r70': 36, 'r80': 36, 'r90': 36, 'r100': 12}\n"
     ]
    }
   ],
   "source": [
    "#Count Number of outputs of each category\n",
    "import copy\n",
    "\n",
    "folder_path = \"../../data/output/RealWorld/facebookMedium/SimpleContagion/half/\"\n",
    "files=os.listdir(folder_path)\n",
    "\n",
    "numberOfOutputs={\"r0\": 0, \"r10\": 0, \"r20\": 0, \"r30\":0, \"r40\":0, \"r50\":0, \"r60\":0, \"r70\":0, \"r80\":0, \"r90\":0, \"r100\":0}\n",
    "\n",
    "for file in files:\n",
    "    with open(os.path.join(folder_path, file), 'r') as f:\n",
    "        file=file.split('_')\n",
    "        r=file[1]\n",
    "        numberOfOutputs[r]=numberOfOutputs.get(r)+1\n",
    "print(numberOfOutputs)"
   ]
  },
  {
   "cell_type": "code",
   "execution_count": 5,
   "metadata": {},
   "outputs": [],
   "source": [
    "#Check if any output is not sequential\n",
    "\n",
    "folder_path = \"../../data/output/RealWorld/facebookArtist/\"\n",
    "files=os.listdir(folder_path)\n",
    "\n",
    "for file in files:\n",
    "    prev=0\n",
    "    with open(os.path.join(folder_path, file), 'r') as f:\n",
    "        content = pd.read_csv(folder_path+\"/\"+file, names=['Epoch', 'Pop', 'Frac', 'DiscEdge'], skiprows=1, sep=\" \")\n",
    "        content=pd.DataFrame(content)\n",
    "        content=content.drop(['Pop'], axis=1) \n",
    "        #file=file.split('_')\n",
    "        for index, value in content.iterrows():\n",
    "            val=int(value['Epoch'])\n",
    "            if val==(prev+1):\n",
    "                prev=prev+1\n",
    "            else:\n",
    "                print(file)\n",
    "                print(val)\n",
    "                break"
   ]
  }
 ],
 "metadata": {
  "kernelspec": {
   "display_name": "Python 3",
   "language": "python",
   "name": "python3"
  },
  "language_info": {
   "codemirror_mode": {
    "name": "ipython",
    "version": 3
   },
   "file_extension": ".py",
   "mimetype": "text/x-python",
   "name": "python",
   "nbconvert_exporter": "python",
   "pygments_lexer": "ipython3",
   "version": "3.10.12"
  }
 },
 "nbformat": 4,
 "nbformat_minor": 2
}
