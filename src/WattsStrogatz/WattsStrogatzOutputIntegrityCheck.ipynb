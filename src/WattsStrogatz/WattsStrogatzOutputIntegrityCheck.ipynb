{
 "cells": [
  {
   "cell_type": "code",
   "execution_count": 2,
   "metadata": {},
   "outputs": [],
   "source": [
    "import matplotlib.pyplot as plt\n",
    "import pandas as pd\n",
    "import os\n",
    "folder_path = \"../../data/output/WattsStrogatzGraphs/\""
   ]
  },
  {
   "cell_type": "code",
   "execution_count": 12,
   "metadata": {},
   "outputs": [],
   "source": [
    "#Check if any output did not resolve\n",
    "files=os.listdir(folder_path)\n",
    "\n",
    "myList=[]\n",
    "parseerror=[]\n",
    "\n",
    "for file in files:\n",
    "    if os.path.isfile(folder_path+\"/\"+file):\n",
    "        with open(os.path.join(folder_path, file), 'r') as f:\n",
    "            try:\n",
    "                content = pd.read_csv(folder_path+\"/\"+file, names=['Epoch', 'Pop', 'Frac', 'DiscEdge'], skiprows=1, sep=\" \")\n",
    "            except parseerror as e:\n",
    "                os.remove(folder_path+\"/\"+file)\n",
    "                print(\"File Deleted \", file)\n",
    "                continue\n",
    "            filee=file.split('_')\n",
    "            content=content.drop(['Pop'], axis=1)    \n",
    "            p=filee[2]\n",
    "            r=filee[4]\n",
    "            if r=='r100':\n",
    "                continue\n",
    "            finalOpinionDensity=content.iloc[-1, 1]\n",
    "            finalDiscordantEdges=content.iloc[-1,2]\n",
    "            if finalDiscordantEdges!=0:\n",
    "                myList.append(str(file))\n",
    "                os.remove(folder_path+\"/\"+file)\n",
    "\n",
    "myList=sorted(myList)\n",
    "for item in myList:\n",
    "    print(item)"
   ]
  },
  {
   "cell_type": "code",
   "execution_count": 11,
   "metadata": {},
   "outputs": [
    {
     "name": "stdout",
     "output_type": "stream",
     "text": [
      "{'r0': 26, 'r10': 24, 'r20': 24, 'r30': 24, 'r40': 24, 'r50': 24, 'r60': 24, 'r70': 24, 'r80': 24, 'r90': 24, 'r100': 12}\n"
     ]
    }
   ],
   "source": [
    "#Count Number of outputs of each category\n",
    "import copy\n",
    "\n",
    "files=os.listdir(folder_path)\n",
    "\n",
    "miniDict={\"r0\": 0, \"r10\": 0, \"r20\": 0, \"r30\":0, \"r40\":0, \"r50\":0, \"r60\":0, \"r70\":0, \"r80\":0, \"r90\":0, \"r100\":0}\n",
    "numberOfOutputs={\"p0\": copy.deepcopy(copy.deepcopy(miniDict)), \"p1\": copy.deepcopy(miniDict), \"p2\": copy.deepcopy(miniDict), \"p3\": copy.deepcopy(miniDict), \"p4\": copy.deepcopy(miniDict), \"p5\": copy.deepcopy(miniDict), \"p6\": copy.deepcopy(miniDict), \"p7\": copy.deepcopy(miniDict), \"p8\": copy.deepcopy(miniDict), \"p9\": copy.deepcopy(miniDict), \"p10\": copy.deepcopy(miniDict)}\n",
    "\n",
    "for file in files:\n",
    "    if os.path.isfile(folder_path+\"/\"+file):\n",
    "        with open(os.path.join(folder_path, file), 'r') as f:\n",
    "            file=file.split('_')\n",
    "            p=file[2]\n",
    "            r=file[4]\n",
    "            numberOfOutputs[p][r]=numberOfOutputs.get(p).get(r)+1\n",
    "print(numberOfOutputs[\"p10\"])"
   ]
  },
  {
   "cell_type": "code",
   "execution_count": 10,
   "metadata": {},
   "outputs": [],
   "source": [
    "#Check if any output is not sequential\n",
    "files=os.listdir(folder_path)\n",
    "\n",
    "for file in files:\n",
    "    prev=0\n",
    "    if os.path.isfile(folder_path+\"/\"+file):\n",
    "        with open(os.path.join(folder_path, file), 'r') as f:\n",
    "            content = pd.read_csv(folder_path+\"/\"+file, names=['Epoch', 'Pop', 'Frac', 'DiscEdge'], skiprows=1, sep=\" \")\n",
    "            content=pd.DataFrame(content)\n",
    "            content=content.drop(['Pop'], axis=1) \n",
    "            #file=file.split('_')\n",
    "            for index, value in content.iterrows():\n",
    "                try:\n",
    "                    val=int(value['Epoch'])\n",
    "                except:\n",
    "                    print(file, \"Exception\")\n",
    "                if val==(prev+1):\n",
    "                    prev=prev+1\n",
    "                else:\n",
    "                    print(file)\n",
    "                    print(val)\n",
    "                    break"
   ]
  }
 ],
 "metadata": {
  "kernelspec": {
   "display_name": "Python 3",
   "language": "python",
   "name": "python3"
  },
  "language_info": {
   "codemirror_mode": {
    "name": "ipython",
    "version": 3
   },
   "file_extension": ".py",
   "mimetype": "text/x-python",
   "name": "python",
   "nbconvert_exporter": "python",
   "pygments_lexer": "ipython3",
   "version": "3.10.12"
  }
 },
 "nbformat": 4,
 "nbformat_minor": 2
}
