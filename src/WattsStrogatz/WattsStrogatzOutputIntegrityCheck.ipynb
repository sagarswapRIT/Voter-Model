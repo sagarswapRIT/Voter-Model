{
 "cells": [
  {
   "cell_type": "code",
   "execution_count": 33,
   "metadata": {},
   "outputs": [],
   "source": [
    "import matplotlib.pyplot as plt\n",
    "import pandas as pd\n",
    "import os"
   ]
  },
  {
   "cell_type": "code",
   "execution_count": 43,
   "metadata": {},
   "outputs": [
    {
     "name": "stdout",
     "output_type": "stream",
     "text": [
      "WattsStrogatz_N50000_p0_k10_r0_18.txt\n",
      "WattsStrogatz_N50000_p0_k10_r0_313.txt\n",
      "WattsStrogatz_N50000_p0_k10_r0_314.txt\n",
      "WattsStrogatz_N50000_p0_k10_r0_359.txt\n",
      "WattsStrogatz_N50000_p0_k10_r0_473.txt\n",
      "WattsStrogatz_N50000_p0_k10_r0_543.txt\n",
      "WattsStrogatz_N50000_p0_k10_r0_565.txt\n",
      "WattsStrogatz_N50000_p0_k10_r0_623.txt\n",
      "WattsStrogatz_N50000_p0_k10_r0_723.txt\n",
      "WattsStrogatz_N50000_p0_k10_r0_888.txt\n",
      "WattsStrogatz_N50000_p3_k10_r0_764.txt\n",
      "WattsStrogatz_N50000_p3_k10_r70_1.txt\n",
      "WattsStrogatz_N50000_p5_k10_r80_261.txt\n",
      "WattsStrogatz_N50000_p5_k10_r80_344.txt\n",
      "WattsStrogatz_N50000_p5_k10_r80_345.txt\n",
      "WattsStrogatz_N50000_p5_k10_r80_436.txt\n",
      "WattsStrogatz_N50000_p5_k10_r80_550.txt\n",
      "WattsStrogatz_N50000_p5_k10_r80_605.txt\n",
      "WattsStrogatz_N50000_p5_k10_r80_620.txt\n",
      "WattsStrogatz_N50000_p5_k10_r80_723.txt\n",
      "WattsStrogatz_N50000_p5_k10_r80_993.txt\n",
      "WattsStrogatz_N50000_p9_k10_r90_486.txt\n"
     ]
    }
   ],
   "source": [
    "#Check if any output did not resolve\n",
    "\n",
    "folder_path = \"../data/output/WattsStrogatzGraphs/\"\n",
    "files=os.listdir(folder_path)\n",
    "\n",
    "myList=[]\n",
    "\n",
    "for file in files:\n",
    "    with open(os.path.join(folder_path, file), 'r') as f:\n",
    "        content = pd.read_csv(folder_path+\"/\"+file, names=['Epoch', 'Pop', 'Frac', 'DiscEdge'], skiprows=1, sep=\" \")\n",
    "        filee=file.split('_')\n",
    "        content=content.drop(['Pop'], axis=1)    \n",
    "        p=filee[2]\n",
    "        r=filee[4]\n",
    "        if r=='r100':\n",
    "            continue\n",
    "        finalOpinionDensity=content.iloc[-1, 1]\n",
    "        finalDiscordantEdges=content.iloc[-1,2]\n",
    "        if finalDiscordantEdges!=0:\n",
    "            myList.append(str(file))\n",
    "\n",
    "myList=sorted(myList)\n",
    "for item in myList:\n",
    "    print(item)"
   ]
  },
  {
   "cell_type": "code",
   "execution_count": 50,
   "metadata": {},
   "outputs": [
    {
     "name": "stdout",
     "output_type": "stream",
     "text": [
      "{'p0': {'r0': 10, 'r10': 10, 'r20': 10, 'r30': 10, 'r40': 10, 'r50': 10, 'r60': 10, 'r70': 10, 'r80': 10, 'r90': 10, 'r100': 10}, 'p1': {'r0': 10, 'r10': 10, 'r20': 10, 'r30': 10, 'r40': 10, 'r50': 10, 'r60': 10, 'r70': 10, 'r80': 10, 'r90': 10, 'r100': 10}, 'p2': {'r0': 10, 'r10': 10, 'r20': 10, 'r30': 10, 'r40': 10, 'r50': 10, 'r60': 10, 'r70': 10, 'r80': 10, 'r90': 10, 'r100': 10}, 'p3': {'r0': 10, 'r10': 10, 'r20': 10, 'r30': 10, 'r40': 10, 'r50': 10, 'r60': 10, 'r70': 10, 'r80': 10, 'r90': 10, 'r100': 10}, 'p4': {'r0': 10, 'r10': 10, 'r20': 11, 'r30': 10, 'r40': 10, 'r50': 10, 'r60': 20, 'r70': 10, 'r80': 10, 'r90': 10, 'r100': 10}, 'p5': {'r0': 10, 'r10': 10, 'r20': 10, 'r30': 10, 'r40': 10, 'r50': 10, 'r60': 10, 'r70': 10, 'r80': 19, 'r90': 10, 'r100': 10}, 'p6': {'r0': 10, 'r10': 10, 'r20': 10, 'r30': 10, 'r40': 10, 'r50': 10, 'r60': 10, 'r70': 10, 'r80': 10, 'r90': 10, 'r100': 10}, 'p7': {'r0': 10, 'r10': 10, 'r20': 10, 'r30': 10, 'r40': 10, 'r50': 10, 'r60': 10, 'r70': 10, 'r80': 10, 'r90': 10, 'r100': 10}, 'p8': {'r0': 10, 'r10': 10, 'r20': 10, 'r30': 10, 'r40': 10, 'r50': 10, 'r60': 10, 'r70': 10, 'r80': 10, 'r90': 10, 'r100': 10}, 'p9': {'r0': 10, 'r10': 10, 'r20': 10, 'r30': 10, 'r40': 10, 'r50': 10, 'r60': 8, 'r70': 10, 'r80': 10, 'r90': 10, 'r100': 10}, 'p10': {'r0': 10, 'r10': 10, 'r20': 10, 'r30': 10, 'r40': 10, 'r50': 10, 'r60': 10, 'r70': 10, 'r80': 10, 'r90': 10, 'r100': 10}}\n"
     ]
    }
   ],
   "source": [
    "#Count Number of outputs of each category\n",
    "import copy\n",
    "\n",
    "folder_path = \"../data/output/WattsStrogatzGraphs/\"\n",
    "files=os.listdir(folder_path)\n",
    "\n",
    "miniDict={\"r0\": 0, \"r10\": 0, \"r20\": 0, \"r30\":0, \"r40\":0, \"r50\":0, \"r60\":0, \"r70\":0, \"r80\":0, \"r90\":0, \"r100\":0}\n",
    "numberOfOutputs={\"p0\": copy.deepcopy(copy.deepcopy(miniDict)), \"p1\": copy.deepcopy(miniDict), \"p2\": copy.deepcopy(miniDict), \"p3\": copy.deepcopy(miniDict), \"p4\": copy.deepcopy(miniDict), \"p5\": copy.deepcopy(miniDict), \"p6\": copy.deepcopy(miniDict), \"p7\": copy.deepcopy(miniDict), \"p8\": copy.deepcopy(miniDict), \"p9\": copy.deepcopy(miniDict), \"p10\": copy.deepcopy(miniDict)}\n",
    "\n",
    "for file in files:\n",
    "    with open(os.path.join(folder_path, file), 'r') as f:\n",
    "        file=file.split('_')\n",
    "        p=file[2]\n",
    "        r=file[4]\n",
    "        numberOfOutputs[p][r]=numberOfOutputs.get(p).get(r)+1\n",
    "print(numberOfOutputs)"
   ]
  },
  {
   "cell_type": "code",
   "execution_count": 49,
   "metadata": {},
   "outputs": [],
   "source": [
    "#Check if any output is not sequential\n",
    "\n",
    "folder_path = \"../data/output/WattsStrogatzGraphs/\"\n",
    "files=os.listdir(folder_path)\n",
    "\n",
    "for file in files:\n",
    "    prev=0\n",
    "    with open(os.path.join(folder_path, file), 'r') as f:\n",
    "        content = pd.read_csv(folder_path+\"/\"+file, names=['Epoch', 'Pop', 'Frac', 'DiscEdge'], skiprows=1, sep=\" \")\n",
    "        content=pd.DataFrame(content)\n",
    "        content=content.drop(['Pop'], axis=1) \n",
    "        #file=file.split('_')\n",
    "        for index, value in content.iterrows():\n",
    "            val=int(value['Epoch'])\n",
    "            if val==(prev+1):\n",
    "                prev=prev+1\n",
    "            else:\n",
    "                print(file)\n",
    "                print(val)\n",
    "                break"
   ]
  }
 ],
 "metadata": {
  "kernelspec": {
   "display_name": "Python 3",
   "language": "python",
   "name": "python3"
  },
  "language_info": {
   "codemirror_mode": {
    "name": "ipython",
    "version": 3
   },
   "file_extension": ".py",
   "mimetype": "text/x-python",
   "name": "python",
   "nbconvert_exporter": "python",
   "pygments_lexer": "ipython3",
   "version": "3.10.12"
  }
 },
 "nbformat": 4,
 "nbformat_minor": 2
}
