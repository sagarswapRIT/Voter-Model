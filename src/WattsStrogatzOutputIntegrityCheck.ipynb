{
 "cells": [
  {
   "cell_type": "code",
   "execution_count": 2,
   "metadata": {},
   "outputs": [],
   "source": [
    "import matplotlib.pyplot as plt\n",
    "import pandas as pd\n",
    "import os"
   ]
  },
  {
   "cell_type": "code",
   "execution_count": 8,
   "metadata": {},
   "outputs": [
    {
     "name": "stdout",
     "output_type": "stream",
     "text": [
      "['WattsStrogatz', 'N50000', 'p0', 'k10', 'r0', '565.txt']\n",
      "['WattsStrogatz', 'N50000', 'p5', 'k10', 'r80', '436.txt']\n",
      "['WattsStrogatz', 'N50000', 'p0', 'k10', 'r0', '543.txt']\n",
      "['WattsStrogatz', 'N50000', 'p5', 'k10', 'r80', '605.txt']\n",
      "['WattsStrogatz', 'N50000', 'p0', 'k10', 'r0', '723.txt']\n",
      "['WattsStrogatz', 'N50000', 'p5', 'k10', 'r80', '345.txt']\n",
      "['WattsStrogatz', 'N50000', 'p0', 'k10', 'r0', '313.txt']\n",
      "['WattsStrogatz', 'N50000', 'p9', 'k10', 'r90', '486.txt']\n",
      "['WattsStrogatz', 'N50000', 'p5', 'k10', 'r80', '620.txt']\n",
      "['WattsStrogatz', 'N50000', 'p5', 'k10', 'r80', '261.txt']\n",
      "['WattsStrogatz', 'N50000', 'p5', 'k10', 'r80', '344.txt']\n",
      "['WattsStrogatz', 'N50000', 'p0', 'k10', 'r0', '473.txt']\n",
      "['WattsStrogatz', 'N50000', 'p0', 'k10', 'r0', '18.txt']\n",
      "['WattsStrogatz', 'N50000', 'p0', 'k10', 'r0', '888.txt']\n",
      "['WattsStrogatz', 'N50000', 'p5', 'k10', 'r80', '550.txt']\n",
      "['WattsStrogatz', 'N50000', 'p3', 'k10', 'r0', '764.txt']\n",
      "['WattsStrogatz', 'N50000', 'p3', 'k10', 'r70', '1.txt']\n",
      "['WattsStrogatz', 'N50000', 'p5', 'k10', 'r80', '723.txt']\n",
      "['WattsStrogatz', 'N50000', 'p0', 'k10', 'r0', '623.txt']\n",
      "['WattsStrogatz', 'N50000', 'p0', 'k10', 'r0', '314.txt']\n",
      "['WattsStrogatz', 'N50000', 'p5', 'k10', 'r80', '993.txt']\n",
      "['WattsStrogatz', 'N50000', 'p0', 'k10', 'r0', '359.txt']\n"
     ]
    }
   ],
   "source": [
    "#Check if any output did not resolve\n",
    "\n",
    "folder_path = \"../data/output/WattsStrogatzGraphs/\"\n",
    "files=os.listdir(folder_path)\n",
    "\n",
    "data0=[]\n",
    "data10=[]\n",
    "data20=[]\n",
    "data30=[]\n",
    "data40=[]\n",
    "data50=[]\n",
    "data60=[]\n",
    "data70=[]\n",
    "data80=[]\n",
    "data90=[]\n",
    "data100=[]\n",
    "\n",
    "for file in files:\n",
    "    with open(os.path.join(folder_path, file), 'r') as f:\n",
    "        content = pd.read_csv(folder_path+\"/\"+file, names=['Epoch', 'Pop', 'Frac', 'DiscEdge'], skiprows=1, sep=\" \")\n",
    "        file=file.split('_')\n",
    "        p=file[2]\n",
    "        r=file[4]\n",
    "        if r=='r100':\n",
    "            continue\n",
    "        p=p[1:]\n",
    "        content=content.drop(['Pop'], axis=1)    \n",
    "        finalOpinionDensity=content.iloc[-1, 1]\n",
    "        finalDiscordantEdges=content.iloc[-1,2]\n",
    "        if finalDiscordantEdges!=0:\n",
    "            print(file)"
   ]
  },
  {
   "cell_type": "code",
   "execution_count": 11,
   "metadata": {},
   "outputs": [
    {
     "ename": "SyntaxError",
     "evalue": "invalid syntax (1308019475.py, line 4)",
     "output_type": "error",
     "traceback": [
      "\u001b[0;36m  Cell \u001b[0;32mIn[11], line 4\u001b[0;36m\u001b[0m\n\u001b[0;31m    numberOfOutputs={\"p0\": miniDict, \"p1\": miniDict, \"p2\": miniDict, \"p3\": miniDict, \"p4\": miniDict, \"p5\": miniDict, \"p6\": miniDict, \"p7\": miniDict, \"p8\": miniDict, \"p9\": miniDict, \"p10\": miniDict}folder_path = \"../data/output/WattsStrogatzGraphs/\"\u001b[0m\n\u001b[0m                                                                                                                                                                                                     ^\u001b[0m\n\u001b[0;31mSyntaxError\u001b[0m\u001b[0;31m:\u001b[0m invalid syntax\n"
     ]
    }
   ],
   "source": [
    "#Count Number of outputs of each category\n",
    "\n",
    "miniDict={\"r0\": 0, \"r10\": 0, \"r20\": 0, \"r30\":0, \"r40\":0, \"r50\":0, \"r60\":0, \"r70\":0, \"r80\":0, \"r90\":0, \"r100\":0}\n",
    "numberOfOutputs={\"p0\": miniDict, \"p1\": miniDict, \"p2\": miniDict, \"p3\": miniDict, \"p4\": miniDict, \"p5\": miniDict, \"p6\": miniDict, \"p7\": miniDict, \"p8\": miniDict, \"p9\": miniDict, \"p10\": miniDict}folder_path = \"../data/output/WattsStrogatzGraphs/\"\n",
    "files=os.listdir(folder_path)\n",
    "\n",
    "data0=[]\n",
    "data10=[]\n",
    "data20=[]\n",
    "data30=[]\n",
    "data40=[]\n",
    "data50=[]\n",
    "data60=[]\n",
    "data70=[]\n",
    "data80=[]\n",
    "data90=[]\n",
    "data100=[]\n",
    "\n",
    "for file in files:\n",
    "    with open(os.path.join(folder_path, file), 'r') as f:\n",
    "        content = pd.read_csv(folder_path+\"/\"+file, names=['Epoch', 'Pop', 'Frac', 'DiscEdge'], skiprows=1, sep=\" \")\n",
    "        file=file.split('_')\n",
    "        p=file[2]\n",
    "        r=file[4]\n",
    "        numberOfOutputs[p][r]=numberOfOutputs[p][r]+1\n",
    "        p=p[1:]\n",
    "        content=content.drop(['Pop'], axis=1)    \n",
    "        finalOpinionDensity=content.iloc[-1, 1]\n",
    "        finalDiscordantEdges=content.iloc[-1,2]\n",
    "print(numberOfOutputs)"
   ]
  },
  {
   "cell_type": "code",
   "execution_count": null,
   "metadata": {},
   "outputs": [],
   "source": [
    "#Check if any output is not sequential\n",
    "\n",
    "for file in files:\n",
    "    with open(os.path.join(folder_path, file), 'r') as f:\n",
    "        content = pd.read_csv(folder_path+\"/\"+file, names=['Epoch', 'Pop', 'Frac', 'DiscEdge'], skiprows=1, sep=\" \")\n",
    "        file=file.split('_')\n",
    "        p=file[2]\n",
    "        r=file[4]\n",
    "        if r=='r100':\n",
    "            continue\n",
    "        numberOfOutputs[p][r]=numberOfOutputs[p][r]+1\n",
    "        p=p[1:]\n",
    "        content=content.drop(['Pop'], axis=1)    \n",
    "        finalOpinionDensity=content.iloc[-1, 1]\n",
    "        finalDiscordantEdges=content.iloc[-1,2]"
   ]
  }
 ],
 "metadata": {
  "kernelspec": {
   "display_name": "Python 3",
   "language": "python",
   "name": "python3"
  },
  "language_info": {
   "codemirror_mode": {
    "name": "ipython",
    "version": 3
   },
   "file_extension": ".py",
   "mimetype": "text/x-python",
   "name": "python",
   "nbconvert_exporter": "python",
   "pygments_lexer": "ipython3",
   "version": "3.10.12"
  }
 },
 "nbformat": 4,
 "nbformat_minor": 2
}
