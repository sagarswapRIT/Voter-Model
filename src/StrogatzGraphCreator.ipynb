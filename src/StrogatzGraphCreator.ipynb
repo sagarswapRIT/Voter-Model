{
 "cells": [
  {
   "cell_type": "code",
   "execution_count": 28,
   "metadata": {},
   "outputs": [],
   "source": [
    "import networkx as nx\n",
    "import numpy as np\n"
   ]
  },
  {
   "cell_type": "code",
   "execution_count": 29,
   "metadata": {},
   "outputs": [],
   "source": [
    "pList=[0, 0.1, 0.2, 0.3, 0.4, 0.5, 0.6, 0.7, 0.8, 0.9, 1]\n",
    "addr=\"./data/input/WattsStrogatzGraphs/\"\n",
    "n=25000\n",
    "k=25"
   ]
  },
  {
   "cell_type": "code",
   "execution_count": 30,
   "metadata": {},
   "outputs": [
    {
     "name": "stdout",
     "output_type": "stream",
     "text": [
      "300000\n",
      "300000\n",
      "300000\n",
      "300000\n",
      "300000\n",
      "300000\n",
      "300000\n",
      "300000\n",
      "300000\n",
      "300000\n",
      "300000\n"
     ]
    }
   ],
   "source": [
    "for p in pList:\n",
    "    G=nx.watts_strogatz_graph(n,k,p)\n",
    "    p=int(p*10)\n",
    "    edges=G.edges()\n",
    "    print(len(edges))\n",
    "    with open(f\"../data/input/WattsStrogatzGraphs/WattsStrogatz_N{n}_p{p}_k{k}.txt\", \"w\") as f:\n",
    "        f.write(f\"{n} {len(edges)}\\n\")\n",
    "        for edge in edges:\n",
    "            f.write(f\"{edge[0]} {edge[1]}\\n\")"
   ]
  }
 ],
 "metadata": {
  "kernelspec": {
   "display_name": "Python 3",
   "language": "python",
   "name": "python3"
  },
  "language_info": {
   "codemirror_mode": {
    "name": "ipython",
    "version": 3
   },
   "file_extension": ".py",
   "mimetype": "text/x-python",
   "name": "python",
   "nbconvert_exporter": "python",
   "pygments_lexer": "ipython3",
   "version": "3.10.12"
  }
 },
 "nbformat": 4,
 "nbformat_minor": 2
}
